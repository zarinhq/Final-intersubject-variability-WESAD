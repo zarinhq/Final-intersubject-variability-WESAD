{
 "cells": [
  {
   "cell_type": "markdown",
   "id": "eadf3279-5d58-450b-8ffe-b365f276dd4f",
   "metadata": {},
   "source": [
    "## Install Dependencies"
   ]
  },
  {
   "cell_type": "code",
   "execution_count": 1,
   "id": "6d6f683c",
   "metadata": {},
   "outputs": [],
   "source": [
    "seed_value = 42\n",
    "import os\n",
    "os.environ['PYTHONHASHSEED']=str(seed_value)"
   ]
  },
  {
   "cell_type": "code",
   "execution_count": 2,
   "id": "87ea8e84-bdda-4c2b-baa2-a79dd8377925",
   "metadata": {},
   "outputs": [
    {
     "name": "stdout",
     "output_type": "stream",
     "text": [
      "Requirement already satisfied: wfdb in ./miniconda/lib/python3.9/site-packages (4.0.0)\n",
      "Requirement already satisfied: wget in ./miniconda/lib/python3.9/site-packages (3.2)\n",
      "Requirement already satisfied: tqdm in ./miniconda/lib/python3.9/site-packages (4.64.0)\n",
      "Requirement already satisfied: biosppy in ./miniconda/lib/python3.9/site-packages (1.0.0)\n",
      "Requirement already satisfied: imbalanced-learn in ./miniconda/lib/python3.9/site-packages (0.9.1)\n",
      "Requirement already satisfied: seaborn in ./miniconda/lib/python3.9/site-packages (0.12.1)\n",
      "Requirement already satisfied: ipympl in ./miniconda/lib/python3.9/site-packages (0.9.2)\n",
      "Requirement already satisfied: matplotlib<4.0.0,>=3.2.2 in ./miniconda/lib/python3.9/site-packages (from wfdb) (3.6.2)\n",
      "Requirement already satisfied: numpy<2.0.0,>=1.10.1 in ./miniconda/lib/python3.9/site-packages (from wfdb) (1.23.4)\n",
      "Requirement already satisfied: requests<3.0.0,>=2.8.1 in ./miniconda/lib/python3.9/site-packages (from wfdb) (2.27.1)\n",
      "Requirement already satisfied: scipy<2.0.0,>=1.0.0 in ./miniconda/lib/python3.9/site-packages (from wfdb) (1.9.3)\n",
      "Requirement already satisfied: SoundFile<0.12.0,>=0.10.0 in ./miniconda/lib/python3.9/site-packages (from wfdb) (0.11.0)\n",
      "Requirement already satisfied: pandas<2.0.0,>=1.0.0 in ./miniconda/lib/python3.9/site-packages (from wfdb) (1.5.1)\n",
      "Requirement already satisfied: opencv-python in ./miniconda/lib/python3.9/site-packages (from biosppy) (4.6.0.66)\n",
      "Requirement already satisfied: h5py in ./miniconda/lib/python3.9/site-packages (from biosppy) (3.6.0)\n",
      "Requirement already satisfied: scikit-learn in ./miniconda/lib/python3.9/site-packages (from biosppy) (1.1.3)\n",
      "Requirement already satisfied: six in ./miniconda/lib/python3.9/site-packages (from biosppy) (1.16.0)\n",
      "Requirement already satisfied: shortuuid in ./miniconda/lib/python3.9/site-packages (from biosppy) (1.0.11)\n",
      "Requirement already satisfied: bidict in ./miniconda/lib/python3.9/site-packages (from biosppy) (0.22.0)\n",
      "Requirement already satisfied: joblib in ./miniconda/lib/python3.9/site-packages (from biosppy) (1.2.0)\n",
      "Requirement already satisfied: threadpoolctl>=2.0.0 in ./miniconda/lib/python3.9/site-packages (from imbalanced-learn) (3.1.0)\n",
      "Requirement already satisfied: pillow in ./miniconda/lib/python3.9/site-packages (from ipympl) (9.3.0)\n",
      "Requirement already satisfied: ipython<9 in ./miniconda/lib/python3.9/site-packages (from ipympl) (8.6.0)\n",
      "Requirement already satisfied: traitlets<6 in ./miniconda/lib/python3.9/site-packages (from ipympl) (5.5.0)\n",
      "Requirement already satisfied: ipython-genutils in ./miniconda/lib/python3.9/site-packages (from ipympl) (0.2.0)\n",
      "Requirement already satisfied: ipywidgets<9,>=7.6.0 in ./miniconda/lib/python3.9/site-packages (from ipympl) (8.0.2)\n",
      "Requirement already satisfied: matplotlib-inline in ./miniconda/lib/python3.9/site-packages (from ipython<9->ipympl) (0.1.6)\n",
      "Requirement already satisfied: appnope in ./miniconda/lib/python3.9/site-packages (from ipython<9->ipympl) (0.1.3)\n",
      "Requirement already satisfied: pexpect>4.3 in ./miniconda/lib/python3.9/site-packages (from ipython<9->ipympl) (4.8.0)\n",
      "Requirement already satisfied: prompt-toolkit<3.1.0,>3.0.1 in ./miniconda/lib/python3.9/site-packages (from ipython<9->ipympl) (3.0.32)\n",
      "Requirement already satisfied: pygments>=2.4.0 in ./miniconda/lib/python3.9/site-packages (from ipython<9->ipympl) (2.13.0)\n",
      "Requirement already satisfied: pickleshare in ./miniconda/lib/python3.9/site-packages (from ipython<9->ipympl) (0.7.5)\n",
      "Requirement already satisfied: backcall in ./miniconda/lib/python3.9/site-packages (from ipython<9->ipympl) (0.2.0)\n",
      "Requirement already satisfied: stack-data in ./miniconda/lib/python3.9/site-packages (from ipython<9->ipympl) (0.6.1)\n",
      "Requirement already satisfied: decorator in ./miniconda/lib/python3.9/site-packages (from ipython<9->ipympl) (5.1.1)\n",
      "Requirement already satisfied: jedi>=0.16 in ./miniconda/lib/python3.9/site-packages (from ipython<9->ipympl) (0.18.1)\n",
      "Requirement already satisfied: widgetsnbextension~=4.0 in ./miniconda/lib/python3.9/site-packages (from ipywidgets<9,>=7.6.0->ipympl) (4.0.3)\n",
      "Requirement already satisfied: ipykernel>=4.5.1 in ./miniconda/lib/python3.9/site-packages (from ipywidgets<9,>=7.6.0->ipympl) (6.17.1)\n",
      "Requirement already satisfied: jupyterlab-widgets~=3.0 in ./miniconda/lib/python3.9/site-packages (from ipywidgets<9,>=7.6.0->ipympl) (3.0.3)\n",
      "Requirement already satisfied: jupyter-client>=6.1.12 in ./miniconda/lib/python3.9/site-packages (from ipykernel>=4.5.1->ipywidgets<9,>=7.6.0->ipympl) (7.4.5)\n",
      "Requirement already satisfied: debugpy>=1.0 in ./miniconda/lib/python3.9/site-packages (from ipykernel>=4.5.1->ipywidgets<9,>=7.6.0->ipympl) (1.6.3)\n",
      "Requirement already satisfied: tornado>=6.1 in ./miniconda/lib/python3.9/site-packages (from ipykernel>=4.5.1->ipywidgets<9,>=7.6.0->ipympl) (6.2)\n",
      "Requirement already satisfied: psutil in ./miniconda/lib/python3.9/site-packages (from ipykernel>=4.5.1->ipywidgets<9,>=7.6.0->ipympl) (5.9.4)\n",
      "Requirement already satisfied: pyzmq>=17 in ./miniconda/lib/python3.9/site-packages (from ipykernel>=4.5.1->ipywidgets<9,>=7.6.0->ipympl) (24.0.1)\n",
      "Requirement already satisfied: nest-asyncio in ./miniconda/lib/python3.9/site-packages (from ipykernel>=4.5.1->ipywidgets<9,>=7.6.0->ipympl) (1.5.6)\n",
      "Requirement already satisfied: packaging in ./miniconda/lib/python3.9/site-packages (from ipykernel>=4.5.1->ipywidgets<9,>=7.6.0->ipympl) (21.3)\n",
      "Requirement already satisfied: parso<0.9.0,>=0.8.0 in ./miniconda/lib/python3.9/site-packages (from jedi>=0.16->ipython<9->ipympl) (0.8.3)\n",
      "Requirement already satisfied: entrypoints in ./miniconda/lib/python3.9/site-packages (from jupyter-client>=6.1.12->ipykernel>=4.5.1->ipywidgets<9,>=7.6.0->ipympl) (0.4)\n",
      "Requirement already satisfied: jupyter-core>=4.9.2 in ./miniconda/lib/python3.9/site-packages (from jupyter-client>=6.1.12->ipykernel>=4.5.1->ipywidgets<9,>=7.6.0->ipympl) (5.0.0)\n",
      "Requirement already satisfied: python-dateutil>=2.8.2 in ./miniconda/lib/python3.9/site-packages (from jupyter-client>=6.1.12->ipykernel>=4.5.1->ipywidgets<9,>=7.6.0->ipympl) (2.8.2)\n",
      "Requirement already satisfied: platformdirs in ./miniconda/lib/python3.9/site-packages (from jupyter-core>=4.9.2->jupyter-client>=6.1.12->ipykernel>=4.5.1->ipywidgets<9,>=7.6.0->ipympl) (2.5.4)\n",
      "Requirement already satisfied: kiwisolver>=1.0.1 in ./miniconda/lib/python3.9/site-packages (from matplotlib<4.0.0,>=3.2.2->wfdb) (1.4.4)\n",
      "Requirement already satisfied: pyparsing>=2.2.1 in ./miniconda/lib/python3.9/site-packages (from matplotlib<4.0.0,>=3.2.2->wfdb) (3.0.9)\n",
      "Requirement already satisfied: contourpy>=1.0.1 in ./miniconda/lib/python3.9/site-packages (from matplotlib<4.0.0,>=3.2.2->wfdb) (1.0.6)\n",
      "Requirement already satisfied: cycler>=0.10 in ./miniconda/lib/python3.9/site-packages (from matplotlib<4.0.0,>=3.2.2->wfdb) (0.11.0)\n",
      "Requirement already satisfied: fonttools>=4.22.0 in ./miniconda/lib/python3.9/site-packages (from matplotlib<4.0.0,>=3.2.2->wfdb) (4.38.0)\n",
      "Requirement already satisfied: pytz>=2020.1 in ./miniconda/lib/python3.9/site-packages (from pandas<2.0.0,>=1.0.0->wfdb) (2022.6)\n",
      "Requirement already satisfied: ptyprocess>=0.5 in ./miniconda/lib/python3.9/site-packages (from pexpect>4.3->ipython<9->ipympl) (0.7.0)\n",
      "Requirement already satisfied: wcwidth in ./miniconda/lib/python3.9/site-packages (from prompt-toolkit<3.1.0,>3.0.1->ipython<9->ipympl) (0.2.5)\n",
      "Requirement already satisfied: charset-normalizer~=2.0.0 in ./miniconda/lib/python3.9/site-packages (from requests<3.0.0,>=2.8.1->wfdb) (2.0.4)\n",
      "Requirement already satisfied: certifi>=2017.4.17 in ./miniconda/lib/python3.9/site-packages (from requests<3.0.0,>=2.8.1->wfdb) (2022.9.24)\n",
      "Requirement already satisfied: urllib3<1.27,>=1.21.1 in ./miniconda/lib/python3.9/site-packages (from requests<3.0.0,>=2.8.1->wfdb) (1.26.9)\n",
      "Requirement already satisfied: idna<4,>=2.5 in ./miniconda/lib/python3.9/site-packages (from requests<3.0.0,>=2.8.1->wfdb) (3.3)\n",
      "Requirement already satisfied: cffi>=1.0 in ./miniconda/lib/python3.9/site-packages (from SoundFile<0.12.0,>=0.10.0->wfdb) (1.15.0)\n",
      "Requirement already satisfied: pycparser in ./miniconda/lib/python3.9/site-packages (from cffi>=1.0->SoundFile<0.12.0,>=0.10.0->wfdb) (2.21)\n"
     ]
    },
    {
     "name": "stdout",
     "output_type": "stream",
     "text": [
      "Requirement already satisfied: asttokens>=2.1.0 in ./miniconda/lib/python3.9/site-packages (from stack-data->ipython<9->ipympl) (2.1.0)\n",
      "Requirement already satisfied: executing>=1.2.0 in ./miniconda/lib/python3.9/site-packages (from stack-data->ipython<9->ipympl) (1.2.0)\n",
      "Requirement already satisfied: pure-eval in ./miniconda/lib/python3.9/site-packages (from stack-data->ipython<9->ipympl) (0.2.2)\n",
      "Note: you may need to restart the kernel to use updated packages.\n"
     ]
    }
   ],
   "source": [
    "pip install wfdb wget tqdm biosppy imbalanced-learn seaborn ipympl"
   ]
  },
  {
   "cell_type": "markdown",
   "id": "ef234163-7eba-4bc5-b826-e4cdec720b9d",
   "metadata": {},
   "source": [
    "## Importing Libraries"
   ]
  },
  {
   "cell_type": "code",
   "execution_count": 3,
   "id": "237330b8-84ca-4f73-8729-d68d67245ebe",
   "metadata": {},
   "outputs": [],
   "source": [
    "# %matplotlib widget"
   ]
  },
  {
   "cell_type": "code",
   "execution_count": 4,
   "id": "8503fb2a-9cdd-400f-a52c-571d7db98b81",
   "metadata": {},
   "outputs": [],
   "source": [
    "import tensorflow as tf\n",
    "import matplotlib\n",
    "import matplotlib.pyplot as plt\n",
    "import pandas as pd\n",
    "import numpy as np\n",
    "from glob import glob\n",
    "import wget\n",
    "import math\n",
    "import zipfile\n",
    "import wfdb as wf\n",
    "import os\n",
    "import pickle\n",
    "import sys\n",
    "import datetime\n",
    "import cv2\n",
    "import random\n",
    "import random as python_random\n",
    "import scipy.interpolate as interp\n",
    "from scipy import signal\n",
    "from scipy.signal import resample\n",
    "from scipy.signal import find_peaks\n",
    "from pathlib import Path\n",
    "from scipy.signal import butter, lfilter\n",
    "from sklearn.model_selection import train_test_split\n",
    "from collections import Counter\n",
    "from sklearn.preprocessing import LabelEncoder\n",
    "from imblearn.over_sampling import SMOTE\n",
    "from scipy.fft import fft, ifft, fftfreq, rfft,irfft, rfftfreq\n",
    "from sklearn import preprocessing"
   ]
  },
  {
   "cell_type": "code",
   "execution_count": 5,
   "id": "d7b5b2f0",
   "metadata": {},
   "outputs": [],
   "source": [
    "def reset_random_seeds():\n",
    "   os.environ['PYTHONHASHSEED']=str(seed_value)\n",
    "   tf.random.set_seed(seed_value)\n",
    "   np.random.seed(seed_value)\n",
    "   random.seed(seed_value)"
   ]
  },
  {
   "cell_type": "code",
   "execution_count": 6,
   "id": "4762d23e",
   "metadata": {},
   "outputs": [
    {
     "name": "stdout",
     "output_type": "stream",
     "text": [
      "7\n",
      "0.6394267984578837\n",
      "Metal device set to: Apple M1\n",
      "tf.Tensor([0.6645621], shape=(1,), dtype=float32)\n"
     ]
    },
    {
     "name": "stderr",
     "output_type": "stream",
     "text": [
      "2023-02-15 11:47:56.860116: I tensorflow/core/common_runtime/pluggable_device/pluggable_device_factory.cc:306] Could not identify NUMA node of platform GPU ID 0, defaulting to 0. Your kernel may not have been built with NUMA support.\n",
      "2023-02-15 11:47:56.860607: I tensorflow/core/common_runtime/pluggable_device/pluggable_device_factory.cc:272] Created TensorFlow device (/job:localhost/replica:0/task:0/device:GPU:0 with 0 MB memory) -> physical PluggableDevice (device: 0, name: METAL, pci bus id: <undefined>)\n"
     ]
    }
   ],
   "source": [
    "np.random.seed(seed_value)\n",
    "vec = np.random.randint(1, 10)\n",
    "print(vec)\n",
    "random.seed(42)\n",
    "print(random.random())\n",
    "tf.random.set_seed(42)\n",
    "print(tf.random.uniform([1])) "
   ]
  },
  {
   "cell_type": "markdown",
   "id": "fa4552cf-7d99-4468-87c4-2324315fa982",
   "metadata": {},
   "source": [
    "## Extracting Data"
   ]
  },
  {
   "cell_type": "code",
   "execution_count": 7,
   "id": "e00c771b-8e01-44f7-a68f-a65577b84a8a",
   "metadata": {},
   "outputs": [],
   "source": [
    "module = os.path.abspath('./WESAD/')\n",
    "if module not in sys.path:\n",
    "    sys.path.append(module)\n",
    "from DataManager import DataManager"
   ]
  },
  {
   "cell_type": "markdown",
   "id": "22c7546a-6c39-488c-9038-9eccfeef6782",
   "metadata": {},
   "source": [
    "## Data Preprocessing"
   ]
  },
  {
   "cell_type": "code",
   "execution_count": 8,
   "id": "96131e6c-bbb0-44c9-9e31-674aa82eb7cf",
   "metadata": {},
   "outputs": [],
   "source": [
    "# config\n",
    "debug = False;"
   ]
  },
  {
   "cell_type": "code",
   "execution_count": 9,
   "id": "756fd04d-d208-42bb-8c37-ec5e3e11b619",
   "metadata": {},
   "outputs": [],
   "source": [
    "# subject_ids = [2, 3, 4, 5, 6, 7, 8, 9, 10, 11, 13, 14, 15, 16, 17]"
   ]
  },
  {
   "cell_type": "code",
   "execution_count": 10,
   "id": "65309e6e-71d9-48e2-b8ca-ba985ae39024",
   "metadata": {},
   "outputs": [],
   "source": [
    "test_subject = 2\n",
    "rest_subjects = [3, 4, 5, 6, 7, 8, 9, 10, 11, 13, 14, 15, 16, 17]\n",
    "fs = 700.0\n",
    "lowcut = 0.01\n",
    "highcut = 3.0"
   ]
  },
  {
   "cell_type": "code",
   "execution_count": 11,
   "id": "1a0b056a-af1b-4aa2-b4e5-7a50eb5c0c11",
   "metadata": {},
   "outputs": [],
   "source": [
    "def getBand(signal, highcut, lowcut, order, fs):\n",
    "    nyq = 0.5 * fs\n",
    "    low = lowcut / nyq\n",
    "    high = highcut / nyq\n",
    "    b, a = butter(order, [low, high], btype='band')\n",
    "    s3 = lfilter(b, a, signal)\n",
    "    return s3\n",
    "\n",
    "def cutBandHelper(signal, highcut, lowcut, order, fs):\n",
    "    new_signal = signal.copy()\n",
    "    nyq = 0.5 * fs\n",
    "    lowcut = lowcut/nyq\n",
    "    highcut = highcut/nyq\n",
    "    b, a = butter(order, lowcut, btype = 'low')\n",
    "    d, c = butter(order, highcut, btype = 'high')\n",
    "    s1 = lfilter(b, a, signal)\n",
    "    s2 = lfilter(d, c, new_signal)\n",
    "    return s1, s2"
   ]
  },
  {
   "cell_type": "code",
   "execution_count": 12,
   "id": "c9e50906-d565-475f-ac15-7d19f281bc14",
   "metadata": {},
   "outputs": [],
   "source": [
    "def loadData(subject_id):\n",
    "    data = DataManager()\n",
    "    all_subject_data = np.array([]);\n",
    "    all_subject_labels = np.array([]);\n",
    "\n",
    "    ## Subject Data Extraction\n",
    "    if(debug): \n",
    "        print(\"Processing subject id: \", subject_id);\n",
    "    subject = data.load(subject_id)\n",
    "\n",
    "    if(debug):\n",
    "        print('baseline: ', subject[0], '\\nstress: ', subject[1], '\\namusement: ', subject[2], '\\nbase_label: ', subject[3], '\\nstress_label: ', subject[4], '\\namuse_label: ', subject[5])\n",
    "\n",
    "    ecg_base = subject[0]\n",
    "    ecg_stress = subject[1]\n",
    "    ecg_amusement = subject[2]\n",
    "\n",
    "    ecg_base_T = ecg_base.T\n",
    "    ecg_stress_T = ecg_stress.T\n",
    "    ecg_amusement_T = ecg_amusement.T\n",
    "\n",
    "    ecg_base_data = ecg_base_T[0]\n",
    "    ecg_stress_data = ecg_stress_T[0]\n",
    "    ecg_amusement_data = ecg_amusement_T[0]\n",
    "    \n",
    "\n",
    "    if(debug): \n",
    "        print('ecg_base_data:', ecg_base_data)\n",
    "        print('ecg_stress_data:', ecg_stress_data)\n",
    "        print('ecg_amusement_data:', ecg_amusement_data)\n",
    "\n",
    "    print('base size:', ecg_base_data.size)\n",
    "    print('stress size:', ecg_stress_data.size)\n",
    "    print('amusement size:', ecg_amusement_data.size)\n",
    "    \n",
    "    ecg_base_data = ecg_base_data[0:798000]\n",
    "    ecg_stress_data = ecg_stress_data[0:430500]\n",
    "    ecg_amusement_data = ecg_amusement_data[0:253400]\n",
    "\n",
    "    print('new base:', ecg_base_data.size)\n",
    "    print('new stress:', ecg_stress_data.size)\n",
    "    print('new amuse:', ecg_amusement_data.size)\n",
    "\n",
    "    return ecg_base_data, ecg_stress_data, ecg_amusement_data\n"
   ]
  },
  {
   "cell_type": "markdown",
   "id": "197fecea-06fe-495f-b6d8-86581e5d8492",
   "metadata": {},
   "source": [
    "## Test Data"
   ]
  },
  {
   "cell_type": "code",
   "execution_count": 13,
   "id": "75fa5011-1894-4cda-b5f2-b11d55275ff4",
   "metadata": {},
   "outputs": [
    {
     "name": "stdout",
     "output_type": "stream",
     "text": [
      "Loading data for S2\n",
      "base size: 800800\n",
      "stress size: 430500\n",
      "amusement size: 253400\n",
      "new base: 798000\n",
      "new stress: 430500\n",
      "new amuse: 253400\n",
      "New data shape (2111, 257) Total Shape:  (2111, 257)\n"
     ]
    }
   ],
   "source": [
    "test_all_subject_data = np.array([]);\n",
    "test_base, test_stress, test_amusement = loadData(test_subject)\n",
    "\n",
    "test_base_filtered = getBand(test_base, highcut, lowcut, 1, fs)\n",
    "test_stress_filtered = getBand(test_stress, highcut, lowcut, 1, fs)\n",
    "test_amusement_filtered = getBand(test_amusement, highcut, lowcut, 1, fs)\n",
    "\n",
    "base_secs = len(test_base) // 700 # Number of seconds in signal X\n",
    "base_samps = int(base_secs * 256 )    # Number of samples to downsample\n",
    "test_base_down = signal.resample(test_base, base_samps)\n",
    "    \n",
    "stress_secs = len(test_stress) // 700 # Number of seconds in signal X\n",
    "stress_samps = int(stress_secs * 256 )    # Number of samples to downsample\n",
    "test_stress_down = signal.resample(test_stress, stress_samps)\n",
    "\n",
    "amuse_secs = len(test_amusement) // 700 # Number of seconds in signal X\n",
    "amuse_samps = int(amuse_secs * 256 )    # Number of samples to downsample\n",
    "test_amuse_down = signal.resample(test_amusement, amuse_samps)\n",
    "  \n",
    "window_size = 256\n",
    "window_shift = 256\n",
    "\n",
    "test_heart_beat_base = []\n",
    "for i in range(0,len(test_base_down) - window_size,window_shift):\n",
    "    test_heart_beat_base.append(test_base_down[i:window_size + i])\n",
    "test_heart_beat_base.pop()\n",
    "#     heart_beat_base = np.array(list(heart_beat_base[:]), dtype=float)\n",
    "\n",
    "test_heart_beat_stress = []\n",
    "for i in range(0,len(test_stress_down) - window_size,window_shift):\n",
    "    test_heart_beat_stress.append(test_stress_down[i:window_size + i])\n",
    "test_heart_beat_stress.pop()\n",
    "#     heart_beat_stress = np.array(list(heart_beat_stress[:]), dtype=float)\n",
    "\n",
    "test_heart_beat_amuse = []\n",
    "for i in range(0,len(test_amuse_down) - window_size,window_shift):\n",
    "    test_heart_beat_amuse.append(test_amuse_down[i:window_size + i])\n",
    "test_heart_beat_amuse.pop()\n",
    "#     heart_beat_amuse = np.array(list(heart_beat_amuse[:]), dtype=float)\n",
    "\n",
    "for idx, idxval in enumerate(test_heart_beat_base):\n",
    "    test_heart_beat_base[idx] = (test_heart_beat_base[idx] - test_heart_beat_base[idx].min()) / test_heart_beat_base[idx].ptp() # Normalize the readings to a 0-1 range \n",
    "    test_heart_beat_base[idx] = np.append(test_heart_beat_base[idx], 0.0) #Baseline = 0\n",
    "\n",
    "for idx, idxval in enumerate(test_heart_beat_stress):\n",
    "    test_heart_beat_stress[idx] = (test_heart_beat_stress[idx] - test_heart_beat_stress[idx].min()) / test_heart_beat_stress[idx].ptp() # Normalize the readings to a 0-1 range \n",
    "    test_heart_beat_stress[idx] = np.append(test_heart_beat_stress[idx], 1.0) #Stress = 1    \n",
    "\n",
    "for idx, idxval in enumerate(test_heart_beat_amuse):\n",
    "    test_heart_beat_amuse[idx] = (test_heart_beat_amuse[idx] - test_heart_beat_amuse[idx].min()) / test_heart_beat_amuse[idx].ptp() # Normalize the readings to a 0-1 range \n",
    "    test_heart_beat_amuse[idx] = np.append(test_heart_beat_amuse[idx], 2.0) #Amusement = 2\n",
    "    \n",
    "test_heart_beat_all = np.concatenate((test_heart_beat_base, test_heart_beat_stress, test_heart_beat_amuse), axis=0)\n",
    "test_subject_data = np.array(list(test_heart_beat_all[:]), dtype=float)\n",
    "\n",
    "\n",
    "if(test_all_subject_data.size == 0):\n",
    "    test_all_subject_data = test_subject_data\n",
    "else:\n",
    "    if(test_subject_data.size != 0):\n",
    "        test_all_subject_data = np.concatenate((test_all_subject_data, test_subject_data), axis=0)\n",
    "\n",
    "print(\"New data shape\", test_subject_data.shape, \"Total Shape: \", test_all_subject_data.shape)\n",
    "        \n",
    "#SMOTE to balance the data\n",
    "test_df_final_data_X = pd.DataFrame(data=test_all_subject_data[:, :-1])\n",
    "test_df_final_data_Y = pd.DataFrame(data=test_all_subject_data[:,-1])\n",
    "\n",
    "test_smote = SMOTE(sampling_strategy='not majority')\n",
    "test_data, test_labels = test_smote.fit_resample(test_df_final_data_X, test_df_final_data_Y)"
   ]
  },
  {
   "cell_type": "code",
   "execution_count": 14,
   "id": "904f4d69-c77a-4f00-83e4-a2bf414d34ac",
   "metadata": {},
   "outputs": [
    {
     "data": {
      "text/plain": [
       "0.0    1138\n",
       "1.0    1138\n",
       "2.0    1138\n",
       "dtype: int64"
      ]
     },
     "execution_count": 14,
     "metadata": {},
     "output_type": "execute_result"
    }
   ],
   "source": [
    "test_labels.value_counts()"
   ]
  },
  {
   "cell_type": "code",
   "execution_count": 15,
   "id": "e9bde1be-a391-4ab8-b15c-6d464f69a289",
   "metadata": {},
   "outputs": [
    {
     "name": "stdout",
     "output_type": "stream",
     "text": [
      "Test data shape: (3414, 256)\n",
      "Test labels shape: (3414, 1)\n",
      "Dimension: 2\n"
     ]
    }
   ],
   "source": [
    "print(\"Test data shape:\", test_data.shape)\n",
    "print(\"Test labels shape:\", test_labels.shape)\n",
    "print(\"Dimension:\", test_labels.ndim)"
   ]
  },
  {
   "cell_type": "code",
   "execution_count": 16,
   "id": "a310ff5c-c384-4a9c-bb22-a9e6ea1c2c20",
   "metadata": {},
   "outputs": [],
   "source": [
    "test_labels = pd.DataFrame(test_labels).to_numpy()\n",
    "y_test = test_labels.reshape(-1)"
   ]
  },
  {
   "cell_type": "code",
   "execution_count": 17,
   "id": "7247011e-315e-4bd4-8062-ce19ce141202",
   "metadata": {},
   "outputs": [
    {
     "name": "stdout",
     "output_type": "stream",
     "text": [
      "Test labels shape: (3414,)\n",
      "Dimension: 1\n"
     ]
    }
   ],
   "source": [
    "print(\"Test labels shape:\", y_test.shape)\n",
    "print(\"Dimension:\", y_test.ndim)"
   ]
  },
  {
   "cell_type": "code",
   "execution_count": 18,
   "id": "aca42a20-09ac-4f6e-a884-9a8f11d92479",
   "metadata": {},
   "outputs": [],
   "source": [
    "#Reshape test data to (n_samples, 256, 1), where each sample is of size (256, 1)\n",
    "X_test = np.array(test_data).reshape(test_data.shape[0], test_data.shape[1], 1)"
   ]
  },
  {
   "cell_type": "code",
   "execution_count": 19,
   "id": "ebe955f0-1889-416c-9c0e-3d1a961a857a",
   "metadata": {},
   "outputs": [
    {
     "name": "stdout",
     "output_type": "stream",
     "text": [
      "size of X_test: (3414, 256, 1)\n",
      "size of y_test: (3414,)\n",
      "Test: Counter({0.0: 1138, 1.0: 1138, 2.0: 1138})\n"
     ]
    }
   ],
   "source": [
    "print('size of X_test:', X_test.shape)\n",
    "print('size of y_test:', y_test.shape)\n",
    "\n",
    "print('Test:', Counter(y_test))"
   ]
  },
  {
   "cell_type": "markdown",
   "id": "c1dc1c13-c889-4b62-ae96-d8231d63dc51",
   "metadata": {},
   "source": [
    "## Training Data"
   ]
  },
  {
   "cell_type": "code",
   "execution_count": 20,
   "id": "f1324082-244e-490d-af2e-24090010b1ed",
   "metadata": {},
   "outputs": [
    {
     "name": "stdout",
     "output_type": "stream",
     "text": [
      "Loading data for S3\n",
      "base size: 798000\n",
      "stress size: 448000\n",
      "amusement size: 262500\n",
      "new base: 798000\n",
      "new stress: 430500\n",
      "new amuse: 253400\n",
      "reformed base size: 798000\n",
      "reformed stress size: 430500\n",
      "reformed amuse size: 253400\n",
      "New data shape (2111, 257) Total Shape:  (2111, 257)\n",
      "Loading data for S4\n",
      "base size: 810601\n",
      "stress size: 444500\n",
      "amusement size: 260400\n",
      "new base: 798000\n",
      "new stress: 430500\n",
      "new amuse: 253400\n",
      "reformed base size: 798000\n",
      "reformed stress size: 430500\n",
      "reformed amuse size: 253400\n",
      "New data shape (2111, 257) Total Shape:  (4222, 257)\n",
      "Loading data for S5\n",
      "base size: 838600\n",
      "stress size: 451500\n",
      "amusement size: 261800\n",
      "new base: 798000\n",
      "new stress: 430500\n",
      "new amuse: 253400\n",
      "reformed base size: 798000\n",
      "reformed stress size: 430500\n",
      "reformed amuse size: 253400\n",
      "New data shape (2111, 257) Total Shape:  (6333, 257)\n",
      "Loading data for S6\n",
      "base size: 826000\n",
      "stress size: 455000\n",
      "amusement size: 260400\n",
      "new base: 798000\n",
      "new stress: 430500\n",
      "new amuse: 253400\n",
      "reformed base size: 798000\n",
      "reformed stress size: 430500\n",
      "reformed amuse size: 253400\n",
      "New data shape (2111, 257) Total Shape:  (8444, 257)\n",
      "Loading data for S7\n",
      "base size: 830200\n",
      "stress size: 448000\n",
      "amusement size: 260401\n",
      "new base: 798000\n",
      "new stress: 430500\n",
      "new amuse: 253400\n",
      "reformed base size: 798000\n",
      "reformed stress size: 430500\n",
      "reformed amuse size: 253400\n",
      "New data shape (2111, 257) Total Shape:  (10555, 257)\n",
      "Loading data for S8\n",
      "base size: 818300\n",
      "stress size: 469000\n",
      "amusement size: 258999\n",
      "new base: 798000\n",
      "new stress: 430500\n",
      "new amuse: 253400\n",
      "reformed base size: 798000\n",
      "reformed stress size: 430500\n",
      "reformed amuse size: 253400\n",
      "New data shape (2111, 257) Total Shape:  (12666, 257)\n",
      "Loading data for S9\n",
      "base size: 826000\n",
      "stress size: 451500\n",
      "amusement size: 260400\n",
      "new base: 798000\n",
      "new stress: 430500\n",
      "new amuse: 253400\n",
      "reformed base size: 798000\n",
      "reformed stress size: 430500\n",
      "reformed amuse size: 253400\n",
      "New data shape (2111, 257) Total Shape:  (14777, 257)\n",
      "Loading data for S10\n",
      "base size: 826000\n",
      "stress size: 507500\n",
      "amusement size: 260400\n",
      "new base: 798000\n",
      "new stress: 430500\n",
      "new amuse: 253400\n",
      "reformed base size: 798000\n",
      "reformed stress size: 430500\n",
      "reformed amuse size: 253400\n",
      "New data shape (2111, 257) Total Shape:  (16888, 257)\n",
      "Loading data for S11\n",
      "base size: 826000\n",
      "stress size: 476000\n",
      "amusement size: 257600\n",
      "new base: 798000\n",
      "new stress: 430500\n",
      "new amuse: 253400\n",
      "reformed base size: 798000\n",
      "reformed stress size: 430500\n",
      "reformed amuse size: 253400\n",
      "New data shape (2111, 257) Total Shape:  (18999, 257)\n",
      "Loading data for S13\n",
      "base size: 826001\n",
      "stress size: 464800\n",
      "amusement size: 267400\n",
      "new base: 798000\n",
      "new stress: 430500\n",
      "new amuse: 253400\n",
      "reformed base size: 798000\n",
      "reformed stress size: 430500\n",
      "reformed amuse size: 253400\n",
      "New data shape (2111, 257) Total Shape:  (21110, 257)\n",
      "Loading data for S14\n",
      "base size: 826000\n",
      "stress size: 472500\n",
      "amusement size: 260401\n",
      "new base: 798000\n",
      "new stress: 430500\n",
      "new amuse: 253400\n",
      "reformed base size: 798000\n",
      "reformed stress size: 430500\n",
      "reformed amuse size: 253400\n",
      "New data shape (2111, 257) Total Shape:  (23221, 257)\n",
      "Loading data for S15\n",
      "base size: 822500\n",
      "stress size: 480200\n",
      "amusement size: 260400\n",
      "new base: 798000\n",
      "new stress: 430500\n",
      "new amuse: 253400\n",
      "reformed base size: 798000\n",
      "reformed stress size: 430500\n",
      "reformed amuse size: 253400\n",
      "New data shape (2111, 257) Total Shape:  (25332, 257)\n",
      "Loading data for S16\n",
      "base size: 826000\n",
      "stress size: 471101\n",
      "amusement size: 257600\n",
      "new base: 798000\n",
      "new stress: 430500\n",
      "new amuse: 253400\n",
      "reformed base size: 798000\n",
      "reformed stress size: 430500\n",
      "reformed amuse size: 253400\n",
      "New data shape (2111, 257) Total Shape:  (27443, 257)\n",
      "Loading data for S17\n",
      "base size: 826700\n",
      "stress size: 506100\n",
      "amusement size: 260400\n",
      "new base: 798000\n",
      "new stress: 430500\n",
      "new amuse: 253400\n",
      "reformed base size: 798000\n",
      "reformed stress size: 430500\n",
      "reformed amuse size: 253400\n",
      "New data shape (2111, 257) Total Shape:  (29554, 257)\n"
     ]
    }
   ],
   "source": [
    "all_subject_data = np.array([]);\n",
    "\n",
    "for idx, idxval in enumerate(rest_subjects):\n",
    "    ecg_base_data, ecg_stress_data, ecg_amusement_data = loadData(idxval)\n",
    "    \n",
    "    base_s1, base_s2 = cutBandHelper(ecg_base_data, highcut, lowcut, 1, fs)\n",
    "    stress_s1, stress_s2 = cutBandHelper(ecg_stress_data, highcut, lowcut, 1, fs)\n",
    "    amusement_s1, amusement_s2 = cutBandHelper(ecg_amusement_data, highcut, lowcut, 1, fs)\n",
    "    \n",
    "    new_base = np.sum([base_s1, test_base_filtered, base_s2], axis=0)\n",
    "    new_stress = np.sum([stress_s1, test_stress_filtered, stress_s2], axis=0)\n",
    "    new_amusement = np.sum([amusement_s1, test_amusement_filtered, amusement_s2], axis=0)\n",
    "    \n",
    "    print('reformed base size:', new_base.size)\n",
    "    print('reformed stress size:', new_stress.size)\n",
    "    print('reformed amuse size:', new_amusement.size)\n",
    "    \n",
    "    base_secs = len(new_base) // 700 # Number of seconds in signal X\n",
    "    base_samps = int(base_secs * 256 )    # Number of samples to downsample\n",
    "    base_down = signal.resample(new_base, base_samps)\n",
    "    \n",
    "    stress_secs = len(new_stress) // 700 # Number of seconds in signal X\n",
    "    stress_samps = int(stress_secs * 256 )    # Number of samples to downsample\n",
    "    stress_down = signal.resample(new_stress, stress_samps)\n",
    "    \n",
    "    amuse_secs = len(new_amusement) // 700 # Number of seconds in signal X\n",
    "    amuse_samps = int(amuse_secs * 256 )    # Number of samples to downsample\n",
    "    amuse_down = signal.resample(new_amusement, amuse_samps)\n",
    "    \n",
    "    window_size = 256\n",
    "    window_shift = 256\n",
    "\n",
    "    heart_beat_base = []\n",
    "    for i in range(0,len(base_down) - window_size,window_shift):\n",
    "        heart_beat_base.append(base_down[i:window_size + i])\n",
    "    heart_beat_base.pop()\n",
    "#     heart_beat_base = np.array(list(heart_beat_base[:]), dtype=float)\n",
    "\n",
    "    heart_beat_stress = []\n",
    "    for i in range(0,len(stress_down) - window_size,window_shift):\n",
    "        heart_beat_stress.append(stress_down[i:window_size + i])\n",
    "    heart_beat_stress.pop()\n",
    "#     heart_beat_stress = np.array(list(heart_beat_stress[:]), dtype=float)\n",
    "\n",
    "    heart_beat_amuse = []\n",
    "    for i in range(0,len(amuse_down) - window_size,window_shift):\n",
    "        heart_beat_amuse.append(amuse_down[i:window_size + i])\n",
    "    heart_beat_amuse.pop()\n",
    "#     heart_beat_amuse = np.array(list(heart_beat_amuse[:]), dtype=float)\n",
    "    \n",
    "    for idx, idxval in enumerate(heart_beat_base):\n",
    "        heart_beat_base[idx] = (heart_beat_base[idx] - heart_beat_base[idx].min()) / heart_beat_base[idx].ptp() # Normalize the readings to a 0-1 range \n",
    "        heart_beat_base[idx] = np.append(heart_beat_base[idx], 0.0) #Baseline = 0\n",
    "\n",
    "    for idx, idxval in enumerate(heart_beat_stress):\n",
    "        heart_beat_stress[idx] = (heart_beat_stress[idx] - heart_beat_stress[idx].min()) / heart_beat_stress[idx].ptp() # Normalize the readings to a 0-1 range \n",
    "        heart_beat_stress[idx] = np.append(heart_beat_stress[idx], 1.0) #Stress = 1    \n",
    "\n",
    "    for idx, idxval in enumerate(heart_beat_amuse):\n",
    "        heart_beat_amuse[idx] = (heart_beat_amuse[idx] - heart_beat_amuse[idx].min()) / heart_beat_amuse[idx].ptp() # Normalize the readings to a 0-1 range \n",
    "        heart_beat_amuse[idx] = np.append(heart_beat_amuse[idx], 2.0) #Amusement = 2\n",
    "        \n",
    "    heart_beat_all = np.concatenate((heart_beat_base, heart_beat_stress, heart_beat_amuse), axis=0)\n",
    "    subject_data = np.array(list(heart_beat_all[:]), dtype=float)\n",
    "    \n",
    "    if(all_subject_data.size == 0):\n",
    "        all_subject_data = subject_data\n",
    "    else:\n",
    "        if(subject_data.size != 0):\n",
    "            all_subject_data = np.concatenate((all_subject_data, subject_data), axis=0)\n",
    "\n",
    "    print(\"New data shape\", subject_data.shape, \"Total Shape: \", all_subject_data.shape)\n",
    "    \n",
    "#SMOTE to balance the data\n",
    "df_final_data_X = pd.DataFrame(data=all_subject_data[:, :-1])\n",
    "df_final_data_Y = pd.DataFrame(data=all_subject_data[:,-1])\n",
    "\n",
    "smote = SMOTE(sampling_strategy='not majority')\n",
    "train_data, train_labels = smote.fit_resample(df_final_data_X, df_final_data_Y)"
   ]
  },
  {
   "cell_type": "code",
   "execution_count": 21,
   "id": "a953e37f-7660-46c1-a268-42e969b8bbe9",
   "metadata": {},
   "outputs": [
    {
     "data": {
      "text/plain": [
       "0.0    15932\n",
       "1.0    15932\n",
       "2.0    15932\n",
       "dtype: int64"
      ]
     },
     "execution_count": 21,
     "metadata": {},
     "output_type": "execute_result"
    }
   ],
   "source": [
    "train_labels.value_counts()"
   ]
  },
  {
   "cell_type": "code",
   "execution_count": 22,
   "id": "339510c8-fe2d-4626-bf82-dd578b80bdc3",
   "metadata": {},
   "outputs": [
    {
     "name": "stdout",
     "output_type": "stream",
     "text": [
      "Train data shape: (47796, 256)\n",
      "Train labels shape: (47796, 1)\n",
      "Dimension: 2\n"
     ]
    }
   ],
   "source": [
    "print(\"Train data shape:\", train_data.shape)\n",
    "print(\"Train labels shape:\", train_labels.shape)\n",
    "print(\"Dimension:\", train_labels.ndim)"
   ]
  },
  {
   "cell_type": "code",
   "execution_count": 23,
   "id": "aab304fe-295d-4a46-9f24-2e933f9197dc",
   "metadata": {},
   "outputs": [],
   "source": [
    "train_labels = pd.DataFrame(train_labels).to_numpy()\n",
    "train_labels = train_labels.reshape(-1)"
   ]
  },
  {
   "cell_type": "code",
   "execution_count": 24,
   "id": "776ed28e-7286-4749-b885-598435b302b8",
   "metadata": {},
   "outputs": [
    {
     "name": "stdout",
     "output_type": "stream",
     "text": [
      "Train labels shape: (47796,)\n",
      "Dimension: 1\n"
     ]
    }
   ],
   "source": [
    "print(\"Train labels shape:\", train_labels.shape)\n",
    "print(\"Dimension:\", train_labels.ndim)"
   ]
  },
  {
   "cell_type": "markdown",
   "id": "b985df15-139f-498e-8e6d-3a58dad46553",
   "metadata": {},
   "source": [
    "## Train and Validation data split"
   ]
  },
  {
   "cell_type": "code",
   "execution_count": 25,
   "id": "082fc240-f4f1-482b-93eb-cb27920ad585",
   "metadata": {},
   "outputs": [],
   "source": [
    "X_train, X_val, y_train, y_val = train_test_split(train_data, train_labels, test_size=0.3, random_state=42)"
   ]
  },
  {
   "cell_type": "code",
   "execution_count": 26,
   "id": "8ed5e9ca-9955-413c-885d-034dd50e665c",
   "metadata": {},
   "outputs": [],
   "source": [
    "#Reshape train and validation data to (n_samples, 256, 1), where each sample is of size (256, 1)\n",
    "X_train = np.array(X_train).reshape(X_train.shape[0], X_train.shape[1], 1)\n",
    "X_val = np.array(X_val).reshape(X_val.shape[0], X_val.shape[1], 1)"
   ]
  },
  {
   "cell_type": "code",
   "execution_count": 27,
   "id": "2a27c28f-932a-41e2-a09d-88d43d6a99de",
   "metadata": {},
   "outputs": [
    {
     "name": "stdout",
     "output_type": "stream",
     "text": [
      "size of X_train: (33457, 256, 1)\n",
      "size of X_val: (14339, 256, 1)\n",
      "size of y_train: (33457,)\n",
      "size of y_val: (14339,)\n",
      "Train: Counter({0.0: 11184, 2.0: 11179, 1.0: 11094}) \n",
      "Val: Counter({1.0: 4838, 2.0: 4753, 0.0: 4748})\n"
     ]
    }
   ],
   "source": [
    "print('size of X_train:', X_train.shape)\n",
    "print('size of X_val:', X_val.shape)\n",
    "\n",
    "print('size of y_train:', y_train.shape)\n",
    "print('size of y_val:', y_val.shape)\n",
    "\n",
    "print('Train:', Counter(y_train), '\\nVal:', Counter(y_val))"
   ]
  },
  {
   "cell_type": "markdown",
   "id": "59c212aa-5f7e-4c09-a6d4-6602c1a50b33",
   "metadata": {},
   "source": [
    "## 1D CNN Model Architecture"
   ]
  },
  {
   "cell_type": "code",
   "execution_count": 28,
   "id": "e5e6bddb-d523-4e5f-a953-2df565b6c601",
   "metadata": {},
   "outputs": [],
   "source": [
    "from tensorflow.keras.models import Sequential\n",
    "from tensorflow.keras.layers import Dense, Flatten, Conv1D, BatchNormalization, MaxPool1D\n",
    "from tensorflow.keras.optimizers import SGD, Adam\n",
    "from tensorflow.keras.callbacks import LearningRateScheduler"
   ]
  },
  {
   "cell_type": "code",
   "execution_count": 29,
   "id": "e92a8477-970e-4d07-b557-f67bb9a50db7",
   "metadata": {},
   "outputs": [
    {
     "name": "stdout",
     "output_type": "stream",
     "text": [
      "Model: \"sequential\"\n",
      "_________________________________________________________________\n",
      " Layer (type)                Output Shape              Param #   \n",
      "=================================================================\n",
      " conv1d (Conv1D)             (None, 256, 5)            30        \n",
      "                                                                 \n",
      " max_pooling1d (MaxPooling1D  (None, 128, 5)           0         \n",
      " )                                                               \n",
      "                                                                 \n",
      " conv1d_1 (Conv1D)           (None, 128, 10)           260       \n",
      "                                                                 \n",
      " max_pooling1d_1 (MaxPooling  (None, 64, 10)           0         \n",
      " 1D)                                                             \n",
      "                                                                 \n",
      " conv1d_2 (Conv1D)           (None, 64, 15)            765       \n",
      "                                                                 \n",
      " max_pooling1d_2 (MaxPooling  (None, 32, 15)           0         \n",
      " 1D)                                                             \n",
      "                                                                 \n",
      " flatten (Flatten)           (None, 480)               0         \n",
      "                                                                 \n",
      " dense (Dense)               (None, 128)               61568     \n",
      "                                                                 \n",
      " dense_1 (Dense)             (None, 3)                 387       \n",
      "                                                                 \n",
      "=================================================================\n",
      "Total params: 63,010\n",
      "Trainable params: 63,010\n",
      "Non-trainable params: 0\n",
      "_________________________________________________________________\n"
     ]
    }
   ],
   "source": [
    "reset_random_seeds()\n",
    "# kernel_regularizer =tf.keras.regularizers.l2(l=0.004)\n",
    "# initializer = tf.keras.initializers.HeUniform()\n",
    "cnn_model = tf.keras.models.Sequential()\n",
    "cnn_model.add(Conv1D(filters=5, kernel_size=(5,), padding='same',  activation='relu', input_shape= (X_train.shape[1],1)))\n",
    "cnn_model.add(MaxPool1D(pool_size=(2,), strides=2))\n",
    "cnn_model.add(Conv1D(filters=10, kernel_size=(5,), padding='same', activation='relu', kernel_regularizer =tf.keras.regularizers.l2(l=0.004)))\n",
    "cnn_model.add(MaxPool1D(pool_size=(2,), strides=2))\n",
    "cnn_model.add(Conv1D(filters=15, kernel_size=(5,), padding='same', activation='relu', kernel_regularizer =tf.keras.regularizers.l2(l=0.004)))\n",
    "cnn_model.add(MaxPool1D(pool_size=(2,), strides=2))\n",
    "cnn_model.add(Flatten())\n",
    "cnn_model.add(Dense(units = 128, activation='relu', kernel_regularizer =tf.keras.regularizers.l2(l=0.004)))\n",
    "cnn_model.add(Dense(units = 3, activation='softmax'))\n",
    "cnn_model.summary()"
   ]
  },
  {
   "cell_type": "code",
   "execution_count": 30,
   "id": "59c24a28-50e6-4f28-b475-20b4c3db67d9",
   "metadata": {},
   "outputs": [],
   "source": [
    "epochs=50\n",
    "batch_size = 32"
   ]
  },
  {
   "cell_type": "code",
   "execution_count": 31,
   "id": "e2272fc4-cbfe-4c71-a006-ae6a38fae983",
   "metadata": {},
   "outputs": [],
   "source": [
    "def step_decay(epoch):\n",
    "  initial_lrate = 0.005\n",
    "  drop = 0.6\n",
    "  epochs_drop = 10.0\n",
    "  lrate = initial_lrate * math.pow(drop, math.floor((1+epoch)/epochs_drop))\n",
    "  return lrate\n",
    "\n",
    "lrate = LearningRateScheduler(step_decay)\n",
    "callbacks_list = [lrate]"
   ]
  },
  {
   "cell_type": "code",
   "execution_count": 32,
   "id": "2ca73925-0a83-4bbc-878e-ef80a4b31de1",
   "metadata": {},
   "outputs": [],
   "source": [
    "opt = tf.keras.optimizers.SGD( learning_rate=0.0, momentum=0.6, nesterov=False)\n",
    "\n",
    "cnn_model.compile(optimizer= opt, loss = 'sparse_categorical_crossentropy', metrics=['accuracy'])"
   ]
  },
  {
   "cell_type": "code",
   "execution_count": 33,
   "id": "ed090ce0-74ce-4759-9889-03c14a85263d",
   "metadata": {},
   "outputs": [
    {
     "name": "stdout",
     "output_type": "stream",
     "text": [
      "Epoch 1/50\n"
     ]
    },
    {
     "name": "stderr",
     "output_type": "stream",
     "text": [
      "2023-02-15 11:48:23.320093: W tensorflow/core/platform/profile_utils/cpu_utils.cc:128] Failed to get CPU frequency: 0 Hz\n",
      "2023-02-15 11:48:23.599587: I tensorflow/core/grappler/optimizers/custom_graph_optimizer_registry.cc:114] Plugin optimizer for device_type GPU is enabled.\n",
      "2023-02-15 11:48:36.915551: I tensorflow/core/grappler/optimizers/custom_graph_optimizer_registry.cc:114] Plugin optimizer for device_type GPU is enabled.\n"
     ]
    },
    {
     "name": "stdout",
     "output_type": "stream",
     "text": [
      "1046/1046 - 17s - loss: 1.8973 - accuracy: 0.3505 - val_loss: 1.8153 - val_accuracy: 0.3528 - lr: 0.0050 - 17s/epoch - 16ms/step\n",
      "Epoch 2/50\n",
      "1046/1046 - 16s - loss: 1.7446 - accuracy: 0.3759 - val_loss: 1.6775 - val_accuracy: 0.3778 - lr: 0.0050 - 16s/epoch - 15ms/step\n",
      "Epoch 3/50\n",
      "1046/1046 - 16s - loss: 1.6189 - accuracy: 0.3936 - val_loss: 1.5634 - val_accuracy: 0.3947 - lr: 0.0050 - 16s/epoch - 15ms/step\n",
      "Epoch 4/50\n",
      "1046/1046 - 16s - loss: 1.5122 - accuracy: 0.4128 - val_loss: 1.4673 - val_accuracy: 0.4041 - lr: 0.0050 - 16s/epoch - 15ms/step\n",
      "Epoch 5/50\n",
      "1046/1046 - 16s - loss: 1.4101 - accuracy: 0.4533 - val_loss: 1.3485 - val_accuracy: 0.4392 - lr: 0.0050 - 16s/epoch - 15ms/step\n",
      "Epoch 6/50\n",
      "1046/1046 - 16s - loss: 1.2878 - accuracy: 0.4788 - val_loss: 1.2269 - val_accuracy: 0.4885 - lr: 0.0050 - 16s/epoch - 15ms/step\n",
      "Epoch 7/50\n",
      "1046/1046 - 16s - loss: 1.2037 - accuracy: 0.4870 - val_loss: 1.1658 - val_accuracy: 0.4961 - lr: 0.0050 - 16s/epoch - 15ms/step\n",
      "Epoch 8/50\n",
      "1046/1046 - 16s - loss: 1.1509 - accuracy: 0.4985 - val_loss: 1.1248 - val_accuracy: 0.5014 - lr: 0.0050 - 16s/epoch - 15ms/step\n",
      "Epoch 9/50\n",
      "1046/1046 - 16s - loss: 1.1093 - accuracy: 0.5090 - val_loss: 1.0799 - val_accuracy: 0.5091 - lr: 0.0050 - 16s/epoch - 15ms/step\n",
      "Epoch 10/50\n",
      "1046/1046 - 16s - loss: 1.0741 - accuracy: 0.5276 - val_loss: 1.0539 - val_accuracy: 0.5408 - lr: 0.0030 - 16s/epoch - 15ms/step\n",
      "Epoch 11/50\n",
      "1046/1046 - 16s - loss: 1.0542 - accuracy: 0.5336 - val_loss: 1.0346 - val_accuracy: 0.5499 - lr: 0.0030 - 16s/epoch - 15ms/step\n",
      "Epoch 12/50\n",
      "1046/1046 - 16s - loss: 1.0367 - accuracy: 0.5405 - val_loss: 1.0218 - val_accuracy: 0.5376 - lr: 0.0030 - 16s/epoch - 15ms/step\n",
      "Epoch 13/50\n",
      "1046/1046 - 16s - loss: 1.0211 - accuracy: 0.5451 - val_loss: 1.0005 - val_accuracy: 0.5634 - lr: 0.0030 - 16s/epoch - 15ms/step\n",
      "Epoch 14/50\n",
      "1046/1046 - 16s - loss: 1.0049 - accuracy: 0.5503 - val_loss: 1.0011 - val_accuracy: 0.5445 - lr: 0.0030 - 16s/epoch - 15ms/step\n",
      "Epoch 15/50\n",
      "1046/1046 - 16s - loss: 0.9927 - accuracy: 0.5557 - val_loss: 0.9777 - val_accuracy: 0.5793 - lr: 0.0030 - 16s/epoch - 15ms/step\n",
      "Epoch 16/50\n",
      "1046/1046 - 16s - loss: 0.9806 - accuracy: 0.5607 - val_loss: 0.9663 - val_accuracy: 0.5705 - lr: 0.0030 - 16s/epoch - 15ms/step\n",
      "Epoch 17/50\n",
      "1046/1046 - 16s - loss: 0.9709 - accuracy: 0.5628 - val_loss: 0.9567 - val_accuracy: 0.5785 - lr: 0.0030 - 16s/epoch - 15ms/step\n",
      "Epoch 18/50\n",
      "1046/1046 - 16s - loss: 0.9630 - accuracy: 0.5648 - val_loss: 0.9467 - val_accuracy: 0.5855 - lr: 0.0030 - 16s/epoch - 15ms/step\n",
      "Epoch 19/50\n",
      "1046/1046 - 16s - loss: 0.9543 - accuracy: 0.5691 - val_loss: 0.9443 - val_accuracy: 0.5731 - lr: 0.0030 - 16s/epoch - 15ms/step\n",
      "Epoch 20/50\n",
      "1046/1046 - 16s - loss: 0.9401 - accuracy: 0.5822 - val_loss: 0.9330 - val_accuracy: 0.5890 - lr: 0.0018 - 16s/epoch - 15ms/step\n",
      "Epoch 21/50\n",
      "1046/1046 - 16s - loss: 0.9371 - accuracy: 0.5825 - val_loss: 0.9265 - val_accuracy: 0.5972 - lr: 0.0018 - 16s/epoch - 15ms/step\n",
      "Epoch 22/50\n",
      "1046/1046 - 16s - loss: 0.9330 - accuracy: 0.5830 - val_loss: 0.9212 - val_accuracy: 0.5966 - lr: 0.0018 - 16s/epoch - 15ms/step\n",
      "Epoch 23/50\n",
      "1046/1046 - 16s - loss: 0.9292 - accuracy: 0.5856 - val_loss: 0.9187 - val_accuracy: 0.5926 - lr: 0.0018 - 16s/epoch - 15ms/step\n",
      "Epoch 24/50\n",
      "1046/1046 - 16s - loss: 0.9251 - accuracy: 0.5901 - val_loss: 0.9362 - val_accuracy: 0.5577 - lr: 0.0018 - 16s/epoch - 15ms/step\n",
      "Epoch 25/50\n",
      "1046/1046 - 16s - loss: 0.9221 - accuracy: 0.5898 - val_loss: 0.9321 - val_accuracy: 0.5736 - lr: 0.0018 - 16s/epoch - 15ms/step\n",
      "Epoch 26/50\n",
      "1046/1046 - 16s - loss: 0.9197 - accuracy: 0.5916 - val_loss: 0.9194 - val_accuracy: 0.5918 - lr: 0.0018 - 16s/epoch - 15ms/step\n",
      "Epoch 27/50\n",
      "1046/1046 - 16s - loss: 0.9168 - accuracy: 0.5882 - val_loss: 0.9088 - val_accuracy: 0.5949 - lr: 0.0018 - 16s/epoch - 15ms/step\n",
      "Epoch 28/50\n",
      "1046/1046 - 16s - loss: 0.9152 - accuracy: 0.5914 - val_loss: 0.9053 - val_accuracy: 0.6042 - lr: 0.0018 - 16s/epoch - 15ms/step\n",
      "Epoch 29/50\n",
      "1046/1046 - 16s - loss: 0.9124 - accuracy: 0.5911 - val_loss: 0.9053 - val_accuracy: 0.6003 - lr: 0.0018 - 16s/epoch - 15ms/step\n",
      "Epoch 30/50\n",
      "1046/1046 - 16s - loss: 0.9041 - accuracy: 0.5993 - val_loss: 0.8957 - val_accuracy: 0.6073 - lr: 0.0011 - 16s/epoch - 15ms/step\n",
      "Epoch 31/50\n",
      "1046/1046 - 16s - loss: 0.9022 - accuracy: 0.6000 - val_loss: 0.9062 - val_accuracy: 0.5913 - lr: 0.0011 - 16s/epoch - 15ms/step\n",
      "Epoch 32/50\n",
      "1046/1046 - 16s - loss: 0.9008 - accuracy: 0.6016 - val_loss: 0.8981 - val_accuracy: 0.6057 - lr: 0.0011 - 16s/epoch - 15ms/step\n",
      "Epoch 33/50\n",
      "1046/1046 - 16s - loss: 0.8998 - accuracy: 0.6011 - val_loss: 0.8922 - val_accuracy: 0.6050 - lr: 0.0011 - 16s/epoch - 15ms/step\n",
      "Epoch 34/50\n",
      "1046/1046 - 16s - loss: 0.8979 - accuracy: 0.6023 - val_loss: 0.8967 - val_accuracy: 0.5984 - lr: 0.0011 - 16s/epoch - 15ms/step\n",
      "Epoch 35/50\n",
      "1046/1046 - 16s - loss: 0.8969 - accuracy: 0.6017 - val_loss: 0.8933 - val_accuracy: 0.6037 - lr: 0.0011 - 16s/epoch - 15ms/step\n",
      "Epoch 36/50\n",
      "1046/1046 - 16s - loss: 0.8964 - accuracy: 0.5999 - val_loss: 0.8918 - val_accuracy: 0.6038 - lr: 0.0011 - 16s/epoch - 15ms/step\n",
      "Epoch 37/50\n",
      "1046/1046 - 16s - loss: 0.8949 - accuracy: 0.6019 - val_loss: 0.8987 - val_accuracy: 0.5966 - lr: 0.0011 - 16s/epoch - 15ms/step\n",
      "Epoch 38/50\n",
      "1046/1046 - 16s - loss: 0.8942 - accuracy: 0.6035 - val_loss: 0.8873 - val_accuracy: 0.6060 - lr: 0.0011 - 16s/epoch - 15ms/step\n",
      "Epoch 39/50\n",
      "1046/1046 - 16s - loss: 0.8923 - accuracy: 0.6054 - val_loss: 0.8847 - val_accuracy: 0.6100 - lr: 0.0011 - 16s/epoch - 15ms/step\n",
      "Epoch 40/50\n",
      "1046/1046 - 16s - loss: 0.8871 - accuracy: 0.6114 - val_loss: 0.8854 - val_accuracy: 0.6139 - lr: 6.4800e-04 - 16s/epoch - 15ms/step\n",
      "Epoch 41/50\n",
      "1046/1046 - 17s - loss: 0.8858 - accuracy: 0.6105 - val_loss: 0.8819 - val_accuracy: 0.6141 - lr: 6.4800e-04 - 17s/epoch - 16ms/step\n",
      "Epoch 42/50\n",
      "1046/1046 - 17s - loss: 0.8855 - accuracy: 0.6107 - val_loss: 0.8815 - val_accuracy: 0.6148 - lr: 6.4800e-04 - 17s/epoch - 16ms/step\n",
      "Epoch 43/50\n",
      "1046/1046 - 16s - loss: 0.8849 - accuracy: 0.6129 - val_loss: 0.8835 - val_accuracy: 0.6123 - lr: 6.4800e-04 - 16s/epoch - 16ms/step\n",
      "Epoch 44/50\n",
      "1046/1046 - 17s - loss: 0.8838 - accuracy: 0.6105 - val_loss: 0.8876 - val_accuracy: 0.6080 - lr: 6.4800e-04 - 17s/epoch - 16ms/step\n",
      "Epoch 45/50\n",
      "1046/1046 - 16s - loss: 0.8830 - accuracy: 0.6119 - val_loss: 0.8811 - val_accuracy: 0.6164 - lr: 6.4800e-04 - 16s/epoch - 15ms/step\n",
      "Epoch 46/50\n",
      "1046/1046 - 17s - loss: 0.8825 - accuracy: 0.6130 - val_loss: 0.8834 - val_accuracy: 0.6076 - lr: 6.4800e-04 - 17s/epoch - 16ms/step\n",
      "Epoch 47/50\n",
      "1046/1046 - 17s - loss: 0.8818 - accuracy: 0.6149 - val_loss: 0.8817 - val_accuracy: 0.6155 - lr: 6.4800e-04 - 17s/epoch - 16ms/step\n",
      "Epoch 48/50\n",
      "1046/1046 - 16s - loss: 0.8809 - accuracy: 0.6136 - val_loss: 0.8779 - val_accuracy: 0.6124 - lr: 6.4800e-04 - 16s/epoch - 16ms/step\n",
      "Epoch 49/50\n",
      "1046/1046 - 16s - loss: 0.8801 - accuracy: 0.6147 - val_loss: 0.8780 - val_accuracy: 0.6190 - lr: 6.4800e-04 - 16s/epoch - 16ms/step\n",
      "Epoch 50/50\n",
      "1046/1046 - 16s - loss: 0.8763 - accuracy: 0.6186 - val_loss: 0.8771 - val_accuracy: 0.6132 - lr: 3.8880e-04 - 16s/epoch - 15ms/step\n"
     ]
    }
   ],
   "source": [
    "history = cnn_model.fit(X_train, y_train, epochs = epochs, batch_size = batch_size, validation_data = (X_val, y_val), callbacks=callbacks_list, verbose=2)"
   ]
  },
  {
   "cell_type": "code",
   "execution_count": 34,
   "id": "bdb1db68-a067-4a22-bc39-199bd2b4ca53",
   "metadata": {},
   "outputs": [
    {
     "data": {
      "image/png": "[encoded data removed]",
      "text/plain": [
       "<Figure size 1200x400 with 2 Axes>"
      ]
     },
     "metadata": {},
     "output_type": "display_data"
    }
   ],
   "source": [
    "f, (ax1, ax2) = plt.subplots(1, 2, figsize=(12, 4))\n",
    "t = f.suptitle('1D CNN Performance', fontsize=12)\n",
    "f.subplots_adjust(top=0.85, wspace=0.3)\n",
    "\n",
    "max_epoch = len(history.history['accuracy'])+1\n",
    "epoch_list = list(range(1,max_epoch))\n",
    "ax1.plot(epoch_list, history.history['accuracy'], label='Train Accuracy')\n",
    "ax1.plot(epoch_list, history.history['val_accuracy'], label='Validation Accuracy')\n",
    "ax1.set_xticks(np.arange(1, max_epoch, 5))\n",
    "ax1.set_ylabel('Accuracy Value')\n",
    "ax1.set_xlabel('Epoch')\n",
    "ax1.set_title('Accuracy')\n",
    "l1 = ax1.legend(loc=\"best\")\n",
    "\n",
    "ax2.plot(epoch_list, history.history['loss'], label='Train Loss')\n",
    "ax2.plot(epoch_list, history.history['val_loss'], label='Validation Loss')\n",
    "ax2.set_xticks(np.arange(1, max_epoch, 5))\n",
    "ax2.set_ylabel('Loss Value')\n",
    "ax2.set_xlabel('Epoch')\n",
    "ax2.set_title('Loss')\n",
    "l2 = ax2.legend(loc=\"best\")"
   ]
  },
  {
   "cell_type": "code",
   "execution_count": 35,
   "id": "f4bc346c-0313-4f15-9ae5-ba08adc4f5db",
   "metadata": {},
   "outputs": [
    {
     "name": "stdout",
     "output_type": "stream",
     "text": [
      "107/107 [==============================] - 1s 8ms/step - loss: 1.3901 - accuracy: 0.1626\n"
     ]
    },
    {
     "data": {
      "text/plain": [
       "[1.390070915222168, 0.1625659018754959]"
      ]
     },
     "execution_count": 35,
     "metadata": {},
     "output_type": "execute_result"
    }
   ],
   "source": [
    "cnn_model.evaluate(X_test, y_test)"
   ]
  },
  {
   "cell_type": "code",
   "execution_count": 36,
   "id": "8bcd4f66",
   "metadata": {},
   "outputs": [
    {
     "name": "stdout",
     "output_type": "stream",
     "text": [
      "[0. 0. 0. ... 2. 2. 2.]\n"
     ]
    }
   ],
   "source": [
    "print(y_test)"
   ]
  },
  {
   "cell_type": "code",
   "execution_count": 37,
   "id": "4174335d",
   "metadata": {},
   "outputs": [
    {
     "name": "stdout",
     "output_type": "stream",
     "text": [
      " 75/107 [====================>.........] - ETA: 0s"
     ]
    },
    {
     "name": "stderr",
     "output_type": "stream",
     "text": [
      "2023-02-15 12:01:48.535589: I tensorflow/core/grappler/optimizers/custom_graph_optimizer_registry.cc:114] Plugin optimizer for device_type GPU is enabled.\n"
     ]
    },
    {
     "name": "stdout",
     "output_type": "stream",
     "text": [
      "107/107 [==============================] - 0s 2ms/step\n",
      "[[0. 0. 1.]\n",
      " [0. 0. 0.]\n",
      " [0. 0. 0.]\n",
      " ...\n",
      " [0. 0. 1.]\n",
      " [1. 0. 0.]\n",
      " [1. 0. 0.]]\n"
     ]
    }
   ],
   "source": [
    "from sklearn.metrics import classification_report, confusion_matrix\n",
    "y_test_preds = np.around(cnn_model.predict(X_test))\n",
    "print(y_test_preds)"
   ]
  },
  {
   "cell_type": "code",
   "execution_count": 38,
   "id": "d4465eed",
   "metadata": {},
   "outputs": [],
   "source": [
    "# y_test_preds = cnn_model.predict(X_test)\n",
    "# print(np.around(y_test_preds[10:12]))\n",
    "# print(y_test_preds[10:12])"
   ]
  },
  {
   "cell_type": "code",
   "execution_count": 39,
   "id": "766d934d",
   "metadata": {},
   "outputs": [
    {
     "data": {
      "text/plain": [
       "(3414, 3)"
      ]
     },
     "execution_count": 39,
     "metadata": {},
     "output_type": "execute_result"
    }
   ],
   "source": [
    "y_test_preds.shape"
   ]
  },
  {
   "cell_type": "code",
   "execution_count": 40,
   "id": "f70b8c87",
   "metadata": {},
   "outputs": [],
   "source": [
    "y_preds = np.argmax(y_test_preds, axis=1)"
   ]
  },
  {
   "cell_type": "code",
   "execution_count": 41,
   "id": "cbe8f177",
   "metadata": {},
   "outputs": [
    {
     "name": "stdout",
     "output_type": "stream",
     "text": [
      "[2 0 0 ... 2 0 0]\n"
     ]
    }
   ],
   "source": [
    "print(y_preds)"
   ]
  },
  {
   "cell_type": "code",
   "execution_count": 42,
   "id": "39231031",
   "metadata": {},
   "outputs": [
    {
     "data": {
      "text/plain": [
       "(3414,)"
      ]
     },
     "execution_count": 42,
     "metadata": {},
     "output_type": "execute_result"
    }
   ],
   "source": [
    "y_preds.shape"
   ]
  },
  {
   "cell_type": "code",
   "execution_count": 43,
   "id": "1be60b23",
   "metadata": {},
   "outputs": [],
   "source": [
    "import sklearn.metrics as metrics"
   ]
  },
  {
   "cell_type": "code",
   "execution_count": 44,
   "id": "6a6c0d12",
   "metadata": {},
   "outputs": [
    {
     "name": "stdout",
     "output_type": "stream",
     "text": [
      "              precision    recall  f1-score   support\n",
      "\n",
      "         0.0       0.24      0.56      0.34      1138\n",
      "         1.0       0.48      0.01      0.02      1138\n",
      "         2.0       0.13      0.08      0.10      1138\n",
      "\n",
      "    accuracy                           0.22      3414\n",
      "   macro avg       0.28      0.22      0.15      3414\n",
      "weighted avg       0.28      0.22      0.15      3414\n",
      "\n"
     ]
    }
   ],
   "source": [
    "print(metrics.classification_report(y_test, y_preds))"
   ]
  },
  {
   "cell_type": "code",
   "execution_count": 45,
   "id": "833f8f7f-de8b-41f8-9785-9d7d57d4085b",
   "metadata": {},
   "outputs": [],
   "source": [
    "# data_interp_base = interp.interp1d(np.arange(ecg_base_data.size),ecg_base_data)\n",
    "# ecg_base_data = data_interp_base(np.linspace(0,ecg_base_data.size-1,838600))"
   ]
  },
  {
   "cell_type": "code",
   "execution_count": 46,
   "id": "54124537-62b5-43da-af6e-09d92efb3571",
   "metadata": {},
   "outputs": [],
   "source": [
    "# base_corr_max = []\n",
    "# stress_corr_max = []\n",
    "# amusement_corr_max = []\n",
    "\n",
    "# ## Normalized Cross Correlation\n",
    "#     norm_a = (test_base - np.mean(test_base)) / (np.std(test_base))\n",
    "#     norm_b = (new_base - np.mean(new_base)) / (np.std(new_base))\n",
    "#     base_corr = signal.correlate(norm_a, norm_b, 'full') / max(len(test_base), len(new_base))\n",
    "#     base_corr_max.append(np.max(base_corr))\n",
    "#     print('Base corr Max:', np.max(base_corr))\n",
    "#     print('Max Array:', base_corr_max)\n",
    "    \n",
    "#     plt.plot(base_corr)\n",
    "#     plt.show()\n",
    "    \n",
    "#     norm_c = (test_stress - np.mean(test_stress)) / (np.std(test_stress))\n",
    "#     norm_d = (new_stress - np.mean(new_stress)) / (np.std(new_stress))\n",
    "#     stress_corr = signal.correlate(norm_c, norm_d, 'full') / max(len(test_stress), len(new_stress))\n",
    "#     stress_corr_max.append(np.max(stress_corr))\n",
    "#     print('Stress corr Max:', np.max(stress_corr))\n",
    "#     print('Max Array:', stress_corr_max)\n",
    "    \n",
    "#     plt.plot(stress_corr)\n",
    "#     plt.show()\n",
    "    \n",
    "#     norm_x = (test_amusement - np.mean(test_amusement)) / (np.std(test_amusement))\n",
    "#     norm_y = (new_amusement - np.mean(new_amusement)) / (np.std(new_amusement))\n",
    "#     amusement_corr = signal.correlate(norm_x, norm_y, 'full') / max(len(test_amusement), len(new_amusement))\n",
    "#     amusement_corr_max.append(np.max(amusement_corr))\n",
    "#     print('Amusement corr Max:', np.max(amusement_corr))\n",
    "#     print('Max Array:', amusement_corr_max)\n",
    "    \n",
    "#     plt.plot(amusement_corr)\n",
    "#     plt.show()\n",
    "    \n",
    "# base_corr_avg = np.mean(base_corr_max)\n",
    "# stress_corr_avg = np.mean(stress_corr_max)\n",
    "# amusement_corr_avg = np.mean(amusement_corr_max)\n",
    "\n",
    "# print('Avg base corr:', base_corr_avg)\n",
    "# print('Avg stress corr:', stress_corr_avg)\n",
    "# print('Avg amusement corr:', amusement_corr_avg)"
   ]
  },
  {
   "cell_type": "code",
   "execution_count": null,
   "id": "91ddfee1-2dce-4810-b789-744d0f1b66af",
   "metadata": {},
   "outputs": [],
   "source": []
  }
 ],
 "metadata": {
  "kernelspec": {
   "display_name": "Python 3 (ipykernel)",
   "language": "python",
   "name": "python3"
  },
  "language_info": {
   "codemirror_mode": {
    "name": "ipython",
    "version": 3
   },
   "file_extension": ".py",
   "mimetype": "text/x-python",
   "name": "python",
   "nbconvert_exporter": "python",
   "pygments_lexer": "ipython3",
   "version": "3.9.12"
  }
 },
 "nbformat": 4,
 "nbformat_minor": 5
}
